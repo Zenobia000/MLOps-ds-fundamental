{
 "cells": [
  {
   "cell_type": "markdown",
   "metadata": {},
   "source": [
    "## Storage format \n",
    "\n",
    "- specific how the model is packaged and saved\n",
    "- include the model, metadata of the model, hypreparameters and the model's version\n",
    "- supports multiple storage formats - a directory of files, a single file format, python functions or container images\n",
    "\n",
    "## Model signature\n",
    "\n",
    "- specific the input, output data types and shapes that the model expects and returns.\n",
    "- used by MLflow to generate REST API for the model\n",
    "- defined using the python function annotations syntax\n",
    "- store as part of the MLflow model and can be accessed by other MLflow components.\n",
    "\n",
    "## Model API\n",
    "\n",
    "- A REST API providing a standardized interface for interacting with model\n",
    "- API supports both synchronous and asynchronous requests\n",
    "- Can be used for real time inference or batch processing\n",
    "- can be deployed to various environments cloud platforms, edge devices or on-premises servers\n",
    "\n",
    "## Flavor\n",
    "\n",
    "- refer to a specific way of serializing and storing a machine learning model\n",
    "- each of the supported frameworks and libraries has an associated flavor in MLflow\n",
    "- additional community-driven flavors and custom flavors\n",
    "\n",
    "## Miscalleneous\n",
    "\n",
    "- Provides functionality for evaluatingthe model using metrics such as accuracy, precision, recall, F1 score\n",
    "- Provides tools to deploy MLflow models to various platforms\n",
    "- Can set a custom target by specifying a custom deployment target along with the necessary code\n",
    "\n"
   ]
  },
  {
   "cell_type": "markdown",
   "metadata": {},
   "source": [
    "---\n",
    "## Model API\n",
    "\n",
    "- save model\n",
    "- log model\n",
    "- load model\n"
   ]
  },
  {
   "cell_type": "code",
   "execution_count": 2,
   "metadata": {},
   "outputs": [],
   "source": [
    "import warnings\n",
    "import argparse\n",
    "import logging\n",
    "import pandas as pd\n",
    "import numpy as np\n",
    "from sklearn.metrics import mean_squared_error, mean_absolute_error, r2_score\n",
    "from sklearn.model_selection import train_test_split\n",
    "from sklearn.linear_model import ElasticNet\n",
    "import mlflow\n",
    "import mlflow.sklearn\n",
    "from pathlib import Path\n",
    "import os\n",
    "from mlflow.models.signature import ModelSignature, infer_signature\n",
    "from mlflow.types.schema import Schema,ColSpec\n",
    "\n"
   ]
  },
  {
   "cell_type": "markdown",
   "metadata": {},
   "source": [
    "## logging recorder"
   ]
  },
  {
   "cell_type": "code",
   "execution_count": 3,
   "metadata": {},
   "outputs": [],
   "source": [
    "#process log tracking\n",
    "logging.basicConfig(level=logging.DEBUG,\n",
    "                    filename='./logfile.log',\n",
    "                    filemode='w', # 'w' 表示寫模式, 'a' 表示追加模式, 'w' 表示如果文件已存在，先将其清空。如果你想在不清空现有日志的情况下向文件追加日志，可以使用 'a' 模式。\n",
    "                    format='%(asctime)s - %(name)s - %(levelname)s - %(message)s')\n",
    "\n",
    "logger = logging.getLogger(__name__)\n",
    "\n"
   ]
  },
  {
   "cell_type": "markdown",
   "metadata": {},
   "source": [
    "## evaluation metrics"
   ]
  },
  {
   "cell_type": "code",
   "execution_count": 4,
   "metadata": {},
   "outputs": [],
   "source": [
    "#evaluation function\n",
    "def eval_metrics(actual, pred):\n",
    "    rmse = np.sqrt(mean_squared_error(actual, pred))\n",
    "    mae = mean_absolute_error(actual, pred)\n",
    "    r2 = r2_score(actual, pred)\n",
    "    return rmse, mae, r2\n"
   ]
  },
  {
   "cell_type": "markdown",
   "metadata": {},
   "source": [
    "## raw data ingestion"
   ]
  },
  {
   "cell_type": "code",
   "execution_count": 5,
   "metadata": {},
   "outputs": [],
   "source": [
    "warnings.filterwarnings(\"ignore\")\n",
    "np.random.seed(40)\n",
    "\n",
    "# Read the wine-quality csv file from the URL\n",
    "data = pd.read_csv(\"data/red-wine-quality.csv\")\n",
    "#os.mkdir(\"data/\")\n",
    "data.to_csv(\"data/red-wine-quality.csv\", index=False)\n",
    "# Split the data into training and test sets. (0.75, 0.25) split.\n",
    "train, test = train_test_split(data)\n",
    "train.to_csv(\"data/train.csv\")\n",
    "test.to_csv(\"data/test.csv\")\n",
    "# The predicted column is \"quality\" which is a scalar from [3, 9]\n",
    "train_x = train.drop([\"quality\"], axis=1)\n",
    "test_x = test.drop([\"quality\"], axis=1)\n",
    "train_y = train[[\"quality\"]]\n",
    "test_y = test[[\"quality\"]]"
   ]
  },
  {
   "cell_type": "markdown",
   "metadata": {},
   "source": [
    "## parameter setting"
   ]
  },
  {
   "cell_type": "code",
   "execution_count": 6,
   "metadata": {},
   "outputs": [],
   "source": [
    "alpha = 0.3\n",
    "l1_ratio = 0.3  "
   ]
  },
  {
   "cell_type": "markdown",
   "metadata": {},
   "source": [
    "## tracking uri"
   ]
  },
  {
   "cell_type": "code",
   "execution_count": 7,
   "metadata": {},
   "outputs": [
    {
     "name": "stdout",
     "output_type": "stream",
     "text": [
      "The set tracking uri is  \n"
     ]
    }
   ],
   "source": [
    "# set tracking folder\n",
    "mlflow.set_tracking_uri(uri=\"\")\n",
    "\n",
    "# 全路徑寫法 file:xxxx\n",
    "# mlflow.set_tracking_uri(uri=r\"file:C:\\Users\\xdxd2\\Sunny_VS_worksapce\\Sunny_python\\ML\\mytracks\")\n",
    "\n",
    "print(\"The set tracking uri is \", mlflow.get_tracking_uri())\n"
   ]
  },
  {
   "cell_type": "markdown",
   "metadata": {},
   "source": [
    "## experiment id"
   ]
  },
  {
   "cell_type": "code",
   "execution_count": 8,
   "metadata": {},
   "outputs": [
    {
     "name": "stdout",
     "output_type": "stream",
     "text": [
      "Name: experiment_signature\n",
      "Experiment_id: 513148386009526498\n",
      "Artifact Location: file:///C:/Users/xdxd2/Sunny_VS_worksapce/Sunny_python/ML/MLOps_fundamentals/MLflow/basic/mlruns/513148386009526498\n",
      "Tags: {}\n",
      "Lifecycle_stage: active\n",
      "Creation timestamp: 1706604750158\n"
     ]
    }
   ],
   "source": [
    "exp = mlflow.set_experiment(experiment_name=\"experiment_signature\")\n",
    "\n",
    "print(\"Name: {}\".format(exp.name))\n",
    "print(\"Experiment_id: {}\".format(exp.experiment_id))\n",
    "print(\"Artifact Location: {}\".format(exp.artifact_location))\n",
    "print(\"Tags: {}\".format(exp.tags))\n",
    "print(\"Lifecycle_stage: {}\".format(exp.lifecycle_stage))\n",
    "print(\"Creation timestamp: {}\".format(exp.creation_time))\n"
   ]
  },
  {
   "cell_type": "markdown",
   "metadata": {},
   "source": [
    "## Model_Signature"
   ]
  },
  {
   "cell_type": "code",
   "execution_count": 9,
   "metadata": {},
   "outputs": [
    {
     "name": "stdout",
     "output_type": "stream",
     "text": [
      "Elasticnet model (alpha=0.300000, l1_ratio=0.300000):\n",
      "  RMSE: 0.7442929001520973\n",
      "  MAE: 0.5763000946156918\n",
      "  R2: 0.21508707276848893\n",
      "The artifact path is file:///C:/Users/xdxd2/Sunny_VS_worksapce/Sunny_python/ML/MLOps_fundamentals/MLflow/basic/mlruns/513148386009526498/f815f9e11082448e9afd932afa9653fd/artifacts\n",
      "Active run id is f815f9e11082448e9afd932afa9653fd\n",
      "Active run name is bemused-cat-546\n"
     ]
    }
   ],
   "source": [
    "mlflow.start_run()\n",
    "tags = {\n",
    "    \"engineering\": \"ML platform\",\n",
    "    \"release.candidate\":\"RC1\",\n",
    "    \"release.version\": \"2.0\"\n",
    "}\n",
    "\n",
    "mlflow.set_tags(tags)\n",
    "mlflow.sklearn.autolog(\n",
    "    log_input_examples=False,\n",
    "    log_model_signatures=False,\n",
    "    log_models=False\n",
    ")\n",
    "\n",
    "lr = ElasticNet(alpha=alpha, l1_ratio=l1_ratio, random_state=42)\n",
    "lr.fit(train_x, train_y)\n",
    "\n",
    "predicted_qualities = lr.predict(test_x)\n",
    "\n",
    "(rmse, mae, r2) = eval_metrics(test_y, predicted_qualities)\n",
    "\n",
    "print(\"Elasticnet model (alpha={:f}, l1_ratio={:f}):\".format(alpha, l1_ratio))\n",
    "print(\"  RMSE: %s\" % rmse)\n",
    "print(\"  MAE: %s\" % mae)\n",
    "print(\"  R2: %s\" % r2)\n",
    "\n",
    "\n",
    "input_data = [\n",
    "    {\"name\": \"fixed acidity\", \"type\": \"double\"},\n",
    "    {\"name\": \"volatile acidity\", \"type\": \"double\"},\n",
    "    {\"name\": \"citric acid\", \"type\": \"double\"},\n",
    "    {\"name\": \"residual sugar\", \"type\": \"double\"},\n",
    "    {\"name\": \"chlorides\", \"type\": \"double\"},\n",
    "    {\"name\": \"free sulfur dioxide\", \"type\": \"double\"},\n",
    "    {\"name\": \"total sulfur dioxide\", \"type\": \"double\"},\n",
    "    {\"name\": \"density\", \"type\": \"double\"},\n",
    "    {\"name\": \"pH\", \"type\": \"double\"},\n",
    "    {\"name\": \"sulphates\", \"type\": \"double\"},\n",
    "    {\"name\": \"alcohol\", \"type\": \"double\"},\n",
    "    {\"name\": \"quality\", \"type\": \"double\"}\n",
    "]\n",
    "\n",
    "output_data = [{'type': 'long'}]\n",
    "\n",
    "input_schema = Schema([ColSpec(col[\"type\"], col['name']) for col in input_data])\n",
    "output_schema = Schema([ColSpec(col['type']) for col in output_data])\n",
    "signature = ModelSignature(inputs=input_schema, outputs=output_schema)\n",
    "\n",
    "\n",
    "input_example = {\n",
    "    \"fixed acidity\": np.array([7.2, 7.5, 7.0, 6.8, 6.9]),\n",
    "    \"volatile acidity\": np.array([0.35, 0.3, 0.28, 0.38, 0.25]),\n",
    "    \"citric acid\": np.array([0.45, 0.5, 0.55, 0.4, 0.42]),\n",
    "    \"residual sugar\": np.array([8.5, 9.0, 8.2, 7.8, 8.1]),\n",
    "    \"chlorides\": np.array([0.045, 0.04, 0.035, 0.05, 0.042]),\n",
    "    \"free sulfur dioxide\": np.array([30, 35, 40, 28, 32]),\n",
    "    \"total sulfur dioxide\": np.array([120, 125, 130, 115, 110]),\n",
    "    \"density\": np.array([0.997, 0.996, 0.995, 0.998, 0.994]),\n",
    "    \"pH\": np.array([3.2, 3.1, 3.0, 3.3, 3.2]),\n",
    "    \"sulphates\": np.array([0.65, 0.7, 0.68, 0.72, 0.62]),\n",
    "    \"alcohol\": np.array([9.2, 9.5, 9.0, 9.8, 9.4]),\n",
    "    \"quality\": np.array([6, 7, 6, 8, 7])\n",
    "}\n",
    "\n",
    "# signature = infer_signature(test_x, predicted_qualities)\n",
    "# input_example = {\n",
    "#     \"columns\":np.array(test_x.columns),\n",
    "#     \"data\": np.array(test_x.values)\n",
    "# }\n",
    "\n",
    "\n",
    "#log model\n",
    "mlflow.log_artifact(\"./data/red-wine-quality.csv\")\n",
    "mlflow.sklearn.save_model(lr, \"model\", signature=signature, input_example=input_example)\n",
    "artifacts_uri=mlflow.get_artifact_uri()\n",
    "print(\"The artifact path is\",artifacts_uri )\n",
    "\n",
    "mlflow.end_run()\n",
    "\n",
    "run = mlflow.last_active_run()\n",
    "print(\"Active run id is {}\".format(run.info.run_id))\n",
    "print(\"Active run name is {}\".format(run.info.run_name))"
   ]
  },
  {
   "cell_type": "markdown",
   "metadata": {},
   "source": [
    "## infer_signature"
   ]
  },
  {
   "cell_type": "code",
   "execution_count": 10,
   "metadata": {},
   "outputs": [
    {
     "name": "stdout",
     "output_type": "stream",
     "text": [
      "Elasticnet model (alpha=0.300000, l1_ratio=0.300000):\n",
      "  RMSE: 0.7442929001520973\n",
      "  MAE: 0.5763000946156918\n",
      "  R2: 0.21508707276848893\n"
     ]
    },
    {
     "ename": "MlflowException",
     "evalue": "Path 'model' already exists and is not empty",
     "output_type": "error",
     "traceback": [
      "\u001b[1;31m---------------------------------------------------------------------------\u001b[0m",
      "\u001b[1;31mMlflowException\u001b[0m                           Traceback (most recent call last)",
      "Cell \u001b[1;32mIn[10], line 37\u001b[0m\n\u001b[0;32m     35\u001b[0m \u001b[38;5;66;03m#log model\u001b[39;00m\n\u001b[0;32m     36\u001b[0m mlflow\u001b[38;5;241m.\u001b[39mlog_artifact(\u001b[38;5;124m\"\u001b[39m\u001b[38;5;124m./data/red-wine-quality.csv\u001b[39m\u001b[38;5;124m\"\u001b[39m)\n\u001b[1;32m---> 37\u001b[0m \u001b[43mmlflow\u001b[49m\u001b[38;5;241;43m.\u001b[39;49m\u001b[43msklearn\u001b[49m\u001b[38;5;241;43m.\u001b[39;49m\u001b[43msave_model\u001b[49m\u001b[43m(\u001b[49m\u001b[43mlr\u001b[49m\u001b[43m,\u001b[49m\u001b[43m \u001b[49m\u001b[38;5;124;43m\"\u001b[39;49m\u001b[38;5;124;43mmodel\u001b[39;49m\u001b[38;5;124;43m\"\u001b[39;49m\u001b[43m,\u001b[49m\u001b[43m \u001b[49m\u001b[43msignature\u001b[49m\u001b[38;5;241;43m=\u001b[39;49m\u001b[43msignature\u001b[49m\u001b[43m,\u001b[49m\u001b[43m \u001b[49m\u001b[43minput_example\u001b[49m\u001b[38;5;241;43m=\u001b[39;49m\u001b[43minput_example\u001b[49m\u001b[43m)\u001b[49m\n\u001b[0;32m     38\u001b[0m artifacts_uri\u001b[38;5;241m=\u001b[39mmlflow\u001b[38;5;241m.\u001b[39mget_artifact_uri()\n\u001b[0;32m     39\u001b[0m \u001b[38;5;28mprint\u001b[39m(\u001b[38;5;124m\"\u001b[39m\u001b[38;5;124mThe artifact path is\u001b[39m\u001b[38;5;124m\"\u001b[39m,artifacts_uri )\n",
      "File \u001b[1;32m~\\AppData\\Roaming\\Python\\Python310\\site-packages\\mlflow\\sklearn\\__init__.py:242\u001b[0m, in \u001b[0;36msave_model\u001b[1;34m(sk_model, path, conda_env, code_paths, mlflow_model, serialization_format, signature, input_example, pip_requirements, extra_pip_requirements, pyfunc_predict_fn, metadata)\u001b[0m\n\u001b[0;32m    233\u001b[0m \u001b[38;5;28;01mif\u001b[39;00m serialization_format \u001b[38;5;129;01mnot\u001b[39;00m \u001b[38;5;129;01min\u001b[39;00m SUPPORTED_SERIALIZATION_FORMATS:\n\u001b[0;32m    234\u001b[0m     \u001b[38;5;28;01mraise\u001b[39;00m MlflowException(\n\u001b[0;32m    235\u001b[0m         message\u001b[38;5;241m=\u001b[39m(\n\u001b[0;32m    236\u001b[0m             \u001b[38;5;124mf\u001b[39m\u001b[38;5;124m\"\u001b[39m\u001b[38;5;124mUnrecognized serialization format: \u001b[39m\u001b[38;5;132;01m{\u001b[39;00mserialization_format\u001b[38;5;132;01m}\u001b[39;00m\u001b[38;5;124m. Please specify one\u001b[39m\u001b[38;5;124m\"\u001b[39m\n\u001b[1;32m   (...)\u001b[0m\n\u001b[0;32m    239\u001b[0m         error_code\u001b[38;5;241m=\u001b[39mINVALID_PARAMETER_VALUE,\n\u001b[0;32m    240\u001b[0m     )\n\u001b[1;32m--> 242\u001b[0m \u001b[43m_validate_and_prepare_target_save_path\u001b[49m\u001b[43m(\u001b[49m\u001b[43mpath\u001b[49m\u001b[43m)\u001b[49m\n\u001b[0;32m    243\u001b[0m code_path_subdir \u001b[38;5;241m=\u001b[39m _validate_and_copy_code_paths(code_paths, path)\n\u001b[0;32m    245\u001b[0m \u001b[38;5;28;01mif\u001b[39;00m signature \u001b[38;5;129;01mis\u001b[39;00m \u001b[38;5;28;01mNone\u001b[39;00m \u001b[38;5;129;01mand\u001b[39;00m input_example \u001b[38;5;129;01mis\u001b[39;00m \u001b[38;5;129;01mnot\u001b[39;00m \u001b[38;5;28;01mNone\u001b[39;00m:\n",
      "File \u001b[1;32m~\\AppData\\Roaming\\Python\\Python310\\site-packages\\mlflow\\utils\\model_utils.py:156\u001b[0m, in \u001b[0;36m_validate_and_prepare_target_save_path\u001b[1;34m(path)\u001b[0m\n\u001b[0;32m    154\u001b[0m \u001b[38;5;28;01mdef\u001b[39;00m \u001b[38;5;21m_validate_and_prepare_target_save_path\u001b[39m(path):\n\u001b[0;32m    155\u001b[0m     \u001b[38;5;28;01mif\u001b[39;00m os\u001b[38;5;241m.\u001b[39mpath\u001b[38;5;241m.\u001b[39mexists(path) \u001b[38;5;129;01mand\u001b[39;00m \u001b[38;5;28many\u001b[39m(os\u001b[38;5;241m.\u001b[39mscandir(path)):\n\u001b[1;32m--> 156\u001b[0m         \u001b[38;5;28;01mraise\u001b[39;00m MlflowException(\n\u001b[0;32m    157\u001b[0m             message\u001b[38;5;241m=\u001b[39m\u001b[38;5;124mf\u001b[39m\u001b[38;5;124m\"\u001b[39m\u001b[38;5;124mPath \u001b[39m\u001b[38;5;124m'\u001b[39m\u001b[38;5;132;01m{\u001b[39;00mpath\u001b[38;5;132;01m}\u001b[39;00m\u001b[38;5;124m'\u001b[39m\u001b[38;5;124m already exists and is not empty\u001b[39m\u001b[38;5;124m\"\u001b[39m,\n\u001b[0;32m    158\u001b[0m             error_code\u001b[38;5;241m=\u001b[39mRESOURCE_ALREADY_EXISTS,\n\u001b[0;32m    159\u001b[0m         )\n\u001b[0;32m    161\u001b[0m     os\u001b[38;5;241m.\u001b[39mmakedirs(path, exist_ok\u001b[38;5;241m=\u001b[39m\u001b[38;5;28;01mTrue\u001b[39;00m)\n",
      "\u001b[1;31mMlflowException\u001b[0m: Path 'model' already exists and is not empty"
     ]
    }
   ],
   "source": [
    "mlflow.start_run()\n",
    "tags = {\n",
    "    \"engineering\": \"ML platform\",\n",
    "    \"release.candidate\":\"RC1\",\n",
    "    \"release.version\": \"2.0\"\n",
    "}\n",
    "\n",
    "mlflow.set_tags(tags)\n",
    "mlflow.sklearn.autolog(\n",
    "    log_input_examples=False,\n",
    "    log_model_signatures=False,\n",
    "    log_models=False\n",
    ")\n",
    "\n",
    "lr = ElasticNet(alpha=alpha, l1_ratio=l1_ratio, random_state=42)\n",
    "lr.fit(train_x, train_y)\n",
    "\n",
    "predicted_qualities = lr.predict(test_x)\n",
    "\n",
    "(rmse, mae, r2) = eval_metrics(test_y, predicted_qualities)\n",
    "\n",
    "print(\"Elasticnet model (alpha={:f}, l1_ratio={:f}):\".format(alpha, l1_ratio))\n",
    "print(\"  RMSE: %s\" % rmse)\n",
    "print(\"  MAE: %s\" % mae)\n",
    "print(\"  R2: %s\" % r2)\n",
    "\n",
    "\n",
    "signature = infer_signature(test_x, predicted_qualities)\n",
    "input_example = {\n",
    "    \"columns\":np.array(test_x.columns),\n",
    "    \"data\": np.array(test_x.values)\n",
    "}\n",
    "\n",
    "\n",
    "#log model\n",
    "mlflow.log_artifact(\"./data/red-wine-quality.csv\")\n",
    "mlflow.sklearn.save_model(lr, \"model\", signature=signature, input_example=input_example)\n",
    "artifacts_uri=mlflow.get_artifact_uri()\n",
    "print(\"The artifact path is\",artifacts_uri )\n",
    "\n",
    "mlflow.end_run()\n",
    "\n",
    "run = mlflow.last_active_run()\n",
    "print(\"Active run id is {}\".format(run.info.run_id))\n",
    "print(\"Active run name is {}\".format(run.info.run_name))"
   ]
  }
 ],
 "metadata": {
  "kernelspec": {
   "display_name": "Python 3",
   "language": "python",
   "name": "python3"
  },
  "language_info": {
   "codemirror_mode": {
    "name": "ipython",
    "version": 3
   },
   "file_extension": ".py",
   "mimetype": "text/x-python",
   "name": "python",
   "nbconvert_exporter": "python",
   "pygments_lexer": "ipython3",
   "version": "3.10.7"
  }
 },
 "nbformat": 4,
 "nbformat_minor": 2
}
