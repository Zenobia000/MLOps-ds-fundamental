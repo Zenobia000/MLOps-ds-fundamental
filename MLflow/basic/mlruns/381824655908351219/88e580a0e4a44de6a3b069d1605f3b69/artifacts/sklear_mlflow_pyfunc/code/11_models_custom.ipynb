{
 "cells": [
  {
   "cell_type": "markdown",
   "metadata": {},
   "source": [
    "## Storage format \n",
    "\n",
    "- specific how the model is packaged and saved\n",
    "- include the model, metadata of the model, hypreparameters and the model's version\n",
    "- supports multiple storage formats - a directory of files, a single file format, python functions or container images\n",
    "\n",
    "## Model signature\n",
    "\n",
    "- specific the input, output data types and shapes that the model expects and returns.\n",
    "- used by MLflow to generate REST API for the model\n",
    "- defined using the python function annotations syntax\n",
    "- store as part of the MLflow model and can be accessed by other MLflow components.\n",
    "\n",
    "## Model API\n",
    "\n",
    "- A REST API providing a standardized interface for interacting with model\n",
    "- API supports both synchronous and asynchronous requests\n",
    "- Can be used for real time inference or batch processing\n",
    "- can be deployed to various environments cloud platforms, edge devices or on-premises servers\n",
    "\n",
    "## Flavor\n",
    "\n",
    "- refer to a specific way of serializing and storing a machine learning model\n",
    "- each of the supported frameworks and libraries has an associated flavor in MLflow\n",
    "- additional community-driven flavors and custom flavors\n",
    "\n",
    "## Miscalleneous\n",
    "\n",
    "- Provides functionality for evaluatingthe model using metrics such as accuracy, precision, recall, F1 score\n",
    "- Provides tools to deploy MLflow models to various platforms\n",
    "- Can set a custom target by specifying a custom deployment target along with the necessary code\n",
    "\n"
   ]
  },
  {
   "cell_type": "markdown",
   "metadata": {},
   "source": [
    "---\n",
    "## Model API\n",
    "\n",
    "- save model\n",
    "- log model\n",
    "- load model\n"
   ]
  },
  {
   "cell_type": "code",
   "execution_count": 1,
   "metadata": {},
   "outputs": [],
   "source": [
    "import warnings\n",
    "import argparse\n",
    "import logging\n",
    "import pandas as pd\n",
    "import numpy as np\n",
    "from sklearn.metrics import mean_squared_error, mean_absolute_error, r2_score\n",
    "from sklearn.model_selection import train_test_split\n",
    "from sklearn.linear_model import ElasticNet\n",
    "import mlflow\n",
    "import mlflow.sklearn\n",
    "from pathlib import Path\n",
    "import os\n",
    "from mlflow.models.signature import ModelSignature, infer_signature\n",
    "from mlflow.types.schema import Schema,ColSpec\n",
    "import sklearn\n",
    "import joblib\n",
    "import cloudpickle\n"
   ]
  },
  {
   "cell_type": "markdown",
   "metadata": {},
   "source": [
    "## logging recorder"
   ]
  },
  {
   "cell_type": "code",
   "execution_count": 2,
   "metadata": {},
   "outputs": [],
   "source": [
    "#process log tracking\n",
    "logging.basicConfig(level=logging.DEBUG,\n",
    "                    filename='./logfile.log',\n",
    "                    filemode='w', # 'w' 表示寫模式, 'a' 表示追加模式, 'w' 表示如果文件已存在，先将其清空。如果你想在不清空现有日志的情况下向文件追加日志，可以使用 'a' 模式。\n",
    "                    format='%(asctime)s - %(name)s - %(levelname)s - %(message)s')\n",
    "\n",
    "logger = logging.getLogger(__name__)\n",
    "\n",
    "\n"
   ]
  },
  {
   "cell_type": "markdown",
   "metadata": {},
   "source": [
    "## evaluation metrics"
   ]
  },
  {
   "cell_type": "code",
   "execution_count": 3,
   "metadata": {},
   "outputs": [],
   "source": [
    "#evaluation function\n",
    "def eval_metrics(actual, pred):\n",
    "    rmse = np.sqrt(mean_squared_error(actual, pred))\n",
    "    mae = mean_absolute_error(actual, pred)\n",
    "    r2 = r2_score(actual, pred)\n",
    "    return rmse, mae, r2\n"
   ]
  },
  {
   "cell_type": "markdown",
   "metadata": {},
   "source": [
    "## raw data ingestion"
   ]
  },
  {
   "cell_type": "code",
   "execution_count": 4,
   "metadata": {},
   "outputs": [],
   "source": [
    "warnings.filterwarnings(\"ignore\")\n",
    "np.random.seed(40)\n",
    "\n",
    "# Read the wine-quality csv file from the URL\n",
    "data = pd.read_csv(\"data/red-wine-quality.csv\")\n",
    "#os.mkdir(\"data/\")\n",
    "data.to_csv(\"data/red-wine-quality.csv\", index=False)\n",
    "# Split the data into training and test sets. (0.75, 0.25) split.\n",
    "train, test = train_test_split(data)\n",
    "\n",
    "data_dir = 'red-wine-data'\n",
    "\n",
    "if not os.path.exists(data_dir):\n",
    "    os.makedirs(data_dir)\n",
    "\n",
    "data.to_csv(data_dir + '/data.csv')\n",
    "train.to_csv(data_dir + '/train.csv')\n",
    "test.to_csv(data_dir + '/test.csv')\n",
    "\n",
    "# The predicted column is \"quality\" which is a scalar from [3, 9]\n",
    "train_x = train.drop([\"quality\"], axis=1)\n",
    "test_x = test.drop([\"quality\"], axis=1)\n",
    "train_y = train[[\"quality\"]]\n",
    "test_y = test[[\"quality\"]]"
   ]
  },
  {
   "cell_type": "markdown",
   "metadata": {},
   "source": [
    "## parameter setting"
   ]
  },
  {
   "cell_type": "code",
   "execution_count": 5,
   "metadata": {},
   "outputs": [],
   "source": [
    "alpha = 0.3\n",
    "l1_ratio = 0.3  "
   ]
  },
  {
   "cell_type": "markdown",
   "metadata": {},
   "source": [
    "## tracking uri"
   ]
  },
  {
   "cell_type": "code",
   "execution_count": 6,
   "metadata": {},
   "outputs": [
    {
     "name": "stdout",
     "output_type": "stream",
     "text": [
      "The set tracking uri is  \n"
     ]
    }
   ],
   "source": [
    "# set tracking folder\n",
    "mlflow.set_tracking_uri(uri=\"\")\n",
    "\n",
    "# 全路徑寫法 file:xxxx\n",
    "# mlflow.set_tracking_uri(uri=r\"file:C:\\Users\\xdxd2\\Sunny_VS_worksapce\\Sunny_python\\ML\\mytracks\")\n",
    "\n",
    "print(\"The set tracking uri is \", mlflow.get_tracking_uri())\n"
   ]
  },
  {
   "cell_type": "markdown",
   "metadata": {},
   "source": [
    "## experiment id"
   ]
  },
  {
   "cell_type": "code",
   "execution_count": 7,
   "metadata": {},
   "outputs": [
    {
     "name": "stdout",
     "output_type": "stream",
     "text": [
      "Name: experiment_custom_sklearn\n",
      "Experiment_id: 381824655908351219\n",
      "Artifact Location: file:///C:/Users/xdxd2/Sunny_VS_worksapce/Sunny_python/ML/MLOps_fundamentals/MLflow/basic/mlruns/381824655908351219\n",
      "Tags: {}\n",
      "Lifecycle_stage: active\n",
      "Creation timestamp: 1706626463653\n"
     ]
    }
   ],
   "source": [
    "exp = mlflow.set_experiment(experiment_name=\"experiment_custom_sklearn\")\n",
    "\n",
    "print(\"Name: {}\".format(exp.name))\n",
    "print(\"Experiment_id: {}\".format(exp.experiment_id))\n",
    "print(\"Artifact Location: {}\".format(exp.artifact_location))\n",
    "print(\"Tags: {}\".format(exp.tags))\n",
    "print(\"Lifecycle_stage: {}\".format(exp.lifecycle_stage))\n",
    "print(\"Creation timestamp: {}\".format(exp.creation_time))\n"
   ]
  },
  {
   "cell_type": "markdown",
   "metadata": {},
   "source": [
    "## Model_Signature"
   ]
  },
  {
   "cell_type": "code",
   "execution_count": 8,
   "metadata": {},
   "outputs": [
    {
     "name": "stdout",
     "output_type": "stream",
     "text": [
      "Elasticnet model (alpha=0.300000, l1_ratio=0.300000):\n",
      "  RMSE: 0.7442929001520973\n",
      "  MAE: 0.5763000946156918\n",
      "  R2: 0.21508707276848893\n"
     ]
    },
    {
     "data": {
      "application/vnd.jupyter.widget-view+json": {
       "model_id": "7ceb4b956cad4953b53e20e5412c6fb5",
       "version_major": 2,
       "version_minor": 0
      },
      "text/plain": [
       "Downloading artifacts:   0%|          | 0/1 [00:00<?, ?it/s]"
      ]
     },
     "metadata": {},
     "output_type": "display_data"
    },
    {
     "data": {
      "application/vnd.jupyter.widget-view+json": {
       "model_id": "fea4fe1004984466a8e69c422a1df655",
       "version_major": 2,
       "version_minor": 0
      },
      "text/plain": [
       "Downloading artifacts:   0%|          | 0/3 [00:00<?, ?it/s]"
      ]
     },
     "metadata": {},
     "output_type": "display_data"
    },
    {
     "name": "stdout",
     "output_type": "stream",
     "text": [
      "The artifact path is file:///C:/Users/xdxd2/Sunny_VS_worksapce/Sunny_python/ML/MLOps_fundamentals/MLflow/basic/mlruns/381824655908351219/ffbdd3190ee946ccb84972fc50752866/artifacts\n"
     ]
    },
    {
     "ename": "AttributeError",
     "evalue": "'NoneType' object has no attribute 'info'",
     "output_type": "error",
     "traceback": [
      "\u001b[1;31m---------------------------------------------------------------------------\u001b[0m",
      "\u001b[1;31mAttributeError\u001b[0m                            Traceback (most recent call last)",
      "Cell \u001b[1;32mIn[8], line 94\u001b[0m\n\u001b[0;32m     91\u001b[0m mlflow\u001b[38;5;241m.\u001b[39mend_run()\n\u001b[0;32m     93\u001b[0m run \u001b[38;5;241m=\u001b[39m mlflow\u001b[38;5;241m.\u001b[39mactive_run()\n\u001b[1;32m---> 94\u001b[0m \u001b[38;5;28mprint\u001b[39m(\u001b[38;5;124mf\u001b[39m\u001b[38;5;124m\"\u001b[39m\u001b[38;5;124mactive run id is \u001b[39m\u001b[38;5;132;01m{\u001b[39;00mrun\u001b[38;5;241m.\u001b[39minfo\u001b[38;5;241m.\u001b[39mrun_id\u001b[38;5;132;01m}\u001b[39;00m\u001b[38;5;124m\"\u001b[39m)\n\u001b[0;32m     95\u001b[0m \u001b[38;5;28mprint\u001b[39m(\u001b[38;5;124mf\u001b[39m\u001b[38;5;124m\"\u001b[39m\u001b[38;5;124mactive run name is \u001b[39m\u001b[38;5;132;01m{\u001b[39;00mrun\u001b[38;5;241m.\u001b[39minfo\u001b[38;5;241m.\u001b[39mrun_name\u001b[38;5;132;01m}\u001b[39;00m\u001b[38;5;124m\"\u001b[39m)\n",
      "\u001b[1;31mAttributeError\u001b[0m: 'NoneType' object has no attribute 'info'"
     ]
    }
   ],
   "source": [
    "mlflow.start_run(experiment_id=exp.experiment_id, run_name=\"run_1\")\n",
    "\n",
    "# hyper parameter tuning\n",
    "alpha = 0.3\n",
    "l1_ratio = 0.3\n",
    "\n",
    "\n",
    "# add exp tags\n",
    "mlflow.set_tag(\"release.version\", \"0.1\")\n",
    "\n",
    "tags = {\n",
    "    \"engineering\": \"ML platform\",\n",
    "    \"release.candidate\": \"RC1\",\n",
    "    \"release.version\":\"2.0\"\n",
    "}\n",
    "mlflow.set_tags(tags)\n",
    "\n",
    "lr = ElasticNet(alpha=alpha, l1_ratio=l1_ratio, random_state=62)\n",
    "lr.fit(train_x, train_y)\n",
    "\n",
    "predicted_qualities = lr.predict(test_x)\n",
    "\n",
    "(rmse, mae, r2) = eval_metrics(test_y, predicted_qualities)\n",
    "\n",
    "print(\"Elasticnet model (alpha={:f}, l1_ratio={:f}):\".format(alpha, l1_ratio))\n",
    "print(\"  RMSE: %s\" % rmse)\n",
    "print(\"  MAE: %s\" % mae)\n",
    "print(\"  R2: %s\" % r2)\n",
    "\n",
    "\n",
    "#log parameters\n",
    "params = {\n",
    "    \"alpha\" : alpha,\n",
    "    \"l1_ratio\": l1_ratio\n",
    "}\n",
    "mlflow.log_params(params)\n",
    "\n",
    "#log metrics\n",
    "metrics = {\n",
    "    \"rmse\":rmse,\n",
    "    \"r2\":r2,\n",
    "    \"mae\":mae\n",
    "}\n",
    "mlflow.log_metrics(metrics)\n",
    "\n",
    "\n",
    "sklearn_model_path = \"sklearn_model.pkl\"\n",
    "joblib.dump(lr, sklearn_model_path)\n",
    "artifacts = {\n",
    "    \"sklearn_model\" : sklearn_model_path,\n",
    "    \"data\" : data_dir\n",
    "}\n",
    "\n",
    "class SklearnWrapper(mlflow.pyfunc.PythonModel):\n",
    "    def load_context(self, context):\n",
    "        self.sklearn_model = joblib.load(context.artifacts[\"sklearn_model\"])\n",
    "\n",
    "    def predict(self, context, model_input):\n",
    "        return self.sklearn_model.predict(model_input.values)\n",
    "\n",
    "\n",
    "# Create a Conda environment for the new MLflow Model that contains all necessary dependencies.\n",
    "conda_env = {\n",
    "    \"channels\": [\"defaults\"],\n",
    "    \"dependencies\": [\n",
    "        \"python={}\".format(3.10),\n",
    "        \"pip\",\n",
    "        {\n",
    "            \"pip\": [\n",
    "                \"mlflow=={}\".format(mlflow.__version__),\n",
    "                \"scikit-learn=={}\".format(sklearn.__version__),\n",
    "                \"cloudpickle=={}\".format(cloudpickle.__version__),\n",
    "            ],\n",
    "        },\n",
    "    ],\n",
    "    \"name\": \"sklearn_env\",\n",
    "}\n",
    "\n",
    "mlflow.pyfunc.log_model(\n",
    "    artifact_path=\"sklearn_mlflow_pyfunc\",\n",
    "    python_model=SklearnWrapper(),\n",
    "    artifacts=artifacts,\n",
    "    code_path=[\"main.py\"],\n",
    "    conda_env=conda_env\n",
    ")\n",
    "\n",
    "\n",
    "artifacts_uri=mlflow.get_artifact_uri()\n",
    "print(\"The artifact path is\",artifacts_uri )\n",
    "\n",
    "mlflow.end_run()\n",
    "\n",
    "run = mlflow.active_run()\n",
    "print(f\"active run id is {run.info.run_id}\")\n",
    "print(f\"active run name is {run.info.run_name}\")\n",
    "\n"
   ]
  },
  {
   "cell_type": "code",
   "execution_count": null,
   "metadata": {},
   "outputs": [],
   "source": [
    "mlflow.end_run()\n",
    "\n"
   ]
  }
 ],
 "metadata": {
  "kernelspec": {
   "display_name": "Python 3",
   "language": "python",
   "name": "python3"
  },
  "language_info": {
   "codemirror_mode": {
    "name": "ipython",
    "version": 3
   },
   "file_extension": ".py",
   "mimetype": "text/x-python",
   "name": "python",
   "nbconvert_exporter": "python",
   "pygments_lexer": "ipython3",
   "version": "3.10.7"
  }
 },
 "nbformat": 4,
 "nbformat_minor": 2
}
