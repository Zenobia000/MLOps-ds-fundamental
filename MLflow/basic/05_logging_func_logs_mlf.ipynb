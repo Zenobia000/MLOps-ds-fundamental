{
 "cells": [
  {
   "cell_type": "code",
   "execution_count": 1,
   "metadata": {},
   "outputs": [],
   "source": [
    "import warnings\n",
    "import logging\n",
    "import pandas as pd\n",
    "import numpy as np\n",
    "from sklearn.metrics import mean_squared_error, mean_absolute_error, r2_score\n",
    "from sklearn.model_selection import train_test_split\n",
    "from sklearn.linear_model import ElasticNet\n",
    "import mlflow\n",
    "import mlflow.sklearn\n",
    "from pathlib import Path\n",
    "import os\n"
   ]
  },
  {
   "cell_type": "code",
   "execution_count": 2,
   "metadata": {},
   "outputs": [],
   "source": [
    "#process log tracking\n",
    "logging.basicConfig(level=logging.DEBUG,\n",
    "                    filename='./logfile.log',\n",
    "                    filemode='w', # 'w' 表示寫模式, 'a' 表示追加模式, 'w' 表示如果文件已存在，先将其清空。如果你想在不清空现有日志的情况下向文件追加日志，可以使用 'a' 模式。\n",
    "                    format='%(asctime)s - %(name)s - %(levelname)s - %(message)s')\n",
    "\n",
    "logger = logging.getLogger(__name__)\n"
   ]
  },
  {
   "cell_type": "code",
   "execution_count": 3,
   "metadata": {},
   "outputs": [],
   "source": [
    "#evaluation function\n",
    "def eval_metrics(actual, pred):\n",
    "    rmse = np.sqrt(mean_squared_error(actual, pred))\n",
    "    mae = mean_absolute_error(actual, pred)\n",
    "    r2 = r2_score(actual, pred)\n",
    "    return rmse, mae, r2\n"
   ]
  },
  {
   "cell_type": "markdown",
   "metadata": {},
   "source": [
    "## RAW data preparation and split data for training"
   ]
  },
  {
   "cell_type": "code",
   "execution_count": 4,
   "metadata": {},
   "outputs": [],
   "source": [
    "warnings.filterwarnings(\"ignore\")\n",
    "np.random.seed(40)\n",
    "\n",
    "# Read the wine-quality csv file from local\n",
    "logger.debug(\"raw data ingestion\")\n",
    "data = pd.read_csv(\"data/red-wine-quality.csv\")\n",
    "data.to_csv(\"data/red-wine-quality.csv\", index=False)\n",
    "\n",
    "# Split the data into training and test sets. (0.75, 0.25) split.\n",
    "logger.debug(\"data prep for training and testing\")\n",
    "train, test = train_test_split(data)\n",
    "train.to_csv(\"data/train.csv\")\n",
    "test.to_csv(\"data/test.csv\")\n",
    "\n",
    "# The predicted column is \"quality\" which is a scalar from [3, 9]\n",
    "train_x = train.drop([\"quality\"], axis=1)\n",
    "test_x = test.drop([\"quality\"], axis=1)\n",
    "train_y = train[[\"quality\"]]\n",
    "test_y = test[[\"quality\"]]\n",
    "\n"
   ]
  },
  {
   "cell_type": "markdown",
   "metadata": {},
   "source": [
    "## Model training and prediction\n"
   ]
  },
  {
   "cell_type": "markdown",
   "metadata": {},
   "source": [
    "### tracking uri\n"
   ]
  },
  {
   "cell_type": "code",
   "execution_count": 5,
   "metadata": {},
   "outputs": [
    {
     "name": "stdout",
     "output_type": "stream",
     "text": [
      "The set tracking uri is  \n"
     ]
    }
   ],
   "source": [
    "# set tracking folder\n",
    "mlflow.set_tracking_uri(uri=\"\")\n",
    "\n",
    "# 全路徑寫法 file:xxxx\n",
    "# mlflow.set_tracking_uri(uri=r\"file:C:\\Users\\xdxd2\\Sunny_VS_worksapce\\Sunny_python\\ML\\mytracks\")\n",
    "\n",
    "print(\"The set tracking uri is \", mlflow.get_tracking_uri())\n",
    "\n"
   ]
  },
  {
   "cell_type": "markdown",
   "metadata": {},
   "source": [
    "### experiment id\n"
   ]
  },
  {
   "cell_type": "code",
   "execution_count": 6,
   "metadata": {},
   "outputs": [
    {
     "name": "stdout",
     "output_type": "stream",
     "text": [
      "Name: lr_elasticNet_core_log\n",
      "Experiment_id: 284318672001257233\n",
      "Artifact Location: file:///C:/Users/xdxd2/Sunny_VS_worksapce/Sunny_python/ML/MLOps_fundamentals/MLflow/basic/mlruns/284318672001257233\n",
      "Tags: {}\n",
      "Lifecycle_stage: active\n",
      "Creation timestamp: 1706508153107\n"
     ]
    }
   ],
   "source": [
    "\n",
    "exp = mlflow.set_experiment( experiment_name= \"lr_elasticNet_core_log\")\n",
    "\n",
    "\n",
    "print(f\"Name: {exp.name}\")\n",
    "print(f\"Experiment_id: {exp.experiment_id}\")\n",
    "print(f\"Artifact Location: {exp.artifact_location}\")\n",
    "print(f\"Tags: {exp.tags}\")\n",
    "print(f\"Lifecycle_stage: {exp.lifecycle_stage}\")\n",
    "print(f\"Creation timestamp: {exp.creation_time}\")\n",
    "\n"
   ]
  },
  {
   "cell_type": "markdown",
   "metadata": {},
   "source": [
    "## core logging function\n",
    "\n",
    "- mlflow.log_param() -> logs a single hyperparameter as key-value pair\n",
    "- mlflow.log_metric()\n",
    "- mlflow.log_artifact()\n",
    "\n",
    "- mlflow.log_params() -> logs a multiple hyperparameter as key-value pair\n",
    "- mlflow.log_metrics()\n",
    "- mlflow.log_artifacts()\n",
    "\n",
    "- mlflow.get_artifact_uri()"
   ]
  },
  {
   "cell_type": "code",
   "execution_count": 8,
   "metadata": {},
   "outputs": [
    {
     "name": "stdout",
     "output_type": "stream",
     "text": [
      "Elasticnet model (alpha=0.300000, l1_ratio=0.300000):\n",
      "  RMSE: 0.7442929001520973\n",
      "  MAE: 0.5763000946156918\n",
      "  R2: 0.21508707276848893\n",
      "artifact uri: file:///C:/Users/xdxd2/Sunny_VS_worksapce/Sunny_python/ML/MLOps_fundamentals/MLflow/basic/mlruns/284318672001257233/bfa9316969674c78a788cc023e457c01/artifacts\n",
      "active run id is bfa9316969674c78a788cc023e457c01\n",
      "active run name is run_1\n"
     ]
    }
   ],
   "source": [
    "mlflow.start_run(experiment_id=exp.experiment_id, run_name=\"run_1\")\n",
    "\n",
    "# hyper parameter tuning\n",
    "alpha = 0.3\n",
    "l1_ratio = 0.3\n",
    "\n",
    "lr = ElasticNet(alpha=alpha, l1_ratio=l1_ratio, random_state=62)\n",
    "lr.fit(train_x, train_y)\n",
    "\n",
    "predicted_qualities = lr.predict(test_x)\n",
    "\n",
    "(rmse, mae, r2) = eval_metrics(test_y, predicted_qualities)\n",
    "\n",
    "print(\"Elasticnet model (alpha={:f}, l1_ratio={:f}):\".format(alpha, l1_ratio))\n",
    "print(\"  RMSE: %s\" % rmse)\n",
    "print(\"  MAE: %s\" % mae)\n",
    "print(\"  R2: %s\" % r2)\n",
    "\n",
    "\n",
    "#log parameters\n",
    "params = {\n",
    "    \"alpha\" : alpha,\n",
    "    \"l1_ratio\": l1_ratio\n",
    "}\n",
    "mlflow.log_params(params)\n",
    "\n",
    "#log metrics\n",
    "metrics = {\n",
    "    \"rmse\":rmse,\n",
    "    \"r2\":r2,\n",
    "    \"mae\":mae\n",
    "}\n",
    "mlflow.log_metrics(metrics)\n",
    "\n",
    "#log model\n",
    "mlflow.sklearn.log_model(lr, \"mymodel_f86a8_end_run\")\n",
    "mlflow.log_artifacts(\"data/\")\n",
    "\n",
    "\n",
    "artifact_uri = mlflow.get_artifact_uri()\n",
    "print(f\"artifact uri: {artifact_uri}\")\n",
    "\n",
    "\n",
    "run = mlflow.active_run()\n",
    "print(f\"active run id is {run.info.run_id}\")\n",
    "print(f\"active run name is {run.info.run_name}\")\n",
    "\n",
    "mlflow.end_run()\n",
    "\n"
   ]
  }
 ],
 "metadata": {
  "kernelspec": {
   "display_name": "Python 3",
   "language": "python",
   "name": "python3"
  },
  "language_info": {
   "codemirror_mode": {
    "name": "ipython",
    "version": 3
   },
   "file_extension": ".py",
   "mimetype": "text/x-python",
   "name": "python",
   "nbconvert_exporter": "python",
   "pygments_lexer": "ipython3",
   "version": "3.10.7"
  }
 },
 "nbformat": 4,
 "nbformat_minor": 2
}
