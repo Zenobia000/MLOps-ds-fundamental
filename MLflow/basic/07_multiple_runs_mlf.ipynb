{
 "cells": [
  {
   "cell_type": "code",
   "execution_count": 5,
   "metadata": {},
   "outputs": [],
   "source": [
    "import warnings\n",
    "import logging\n",
    "import pandas as pd\n",
    "import numpy as np\n",
    "from sklearn.metrics import mean_squared_error, mean_absolute_error, r2_score\n",
    "from sklearn.model_selection import train_test_split\n",
    "from sklearn.linear_model import ElasticNet, Ridge, Lasso\n",
    "import mlflow\n",
    "import mlflow.sklearn\n",
    "from pathlib import Path\n",
    "import os\n"
   ]
  },
  {
   "cell_type": "code",
   "execution_count": 6,
   "metadata": {},
   "outputs": [],
   "source": [
    "#process log tracking\n",
    "logging.basicConfig(level=logging.DEBUG,\n",
    "                    filename='./logfile.log',\n",
    "                    filemode='w', # 'w' 表示寫模式, 'a' 表示追加模式, 'w' 表示如果文件已存在，先将其清空。如果你想在不清空现有日志的情况下向文件追加日志，可以使用 'a' 模式。\n",
    "                    format='%(asctime)s - %(name)s - %(levelname)s - %(message)s')\n",
    "\n",
    "logger = logging.getLogger(__name__)\n"
   ]
  },
  {
   "cell_type": "code",
   "execution_count": 7,
   "metadata": {},
   "outputs": [],
   "source": [
    "#evaluation function\n",
    "def eval_metrics(actual, pred):\n",
    "    rmse = np.sqrt(mean_squared_error(actual, pred))\n",
    "    mae = mean_absolute_error(actual, pred)\n",
    "    r2 = r2_score(actual, pred)\n",
    "    return rmse, mae, r2\n"
   ]
  },
  {
   "cell_type": "markdown",
   "metadata": {},
   "source": [
    "## RAW data preparation and split data for training"
   ]
  },
  {
   "cell_type": "code",
   "execution_count": 8,
   "metadata": {},
   "outputs": [],
   "source": [
    "warnings.filterwarnings(\"ignore\")\n",
    "np.random.seed(40)\n",
    "\n",
    "# Read the wine-quality csv file from local\n",
    "logger.debug(\"raw data ingestion\")\n",
    "data = pd.read_csv(\"data/red-wine-quality.csv\")\n",
    "data.to_csv(\"data/red-wine-quality.csv\", index=False)\n",
    "\n",
    "# Split the data into training and test sets. (0.75, 0.25) split.\n",
    "logger.debug(\"data prep for training and testing\")\n",
    "train, test = train_test_split(data)\n",
    "train.to_csv(\"data/train.csv\")\n",
    "test.to_csv(\"data/test.csv\")\n",
    "\n",
    "# The predicted column is \"quality\" which is a scalar from [3, 9]\n",
    "train_x = train.drop([\"quality\"], axis=1)\n",
    "test_x = test.drop([\"quality\"], axis=1)\n",
    "train_y = train[[\"quality\"]]\n",
    "test_y = test[[\"quality\"]]\n",
    "\n"
   ]
  },
  {
   "cell_type": "markdown",
   "metadata": {},
   "source": [
    "## Model training and prediction\n"
   ]
  },
  {
   "cell_type": "markdown",
   "metadata": {},
   "source": [
    "### tracking uri\n"
   ]
  },
  {
   "cell_type": "code",
   "execution_count": 9,
   "metadata": {},
   "outputs": [
    {
     "name": "stdout",
     "output_type": "stream",
     "text": [
      "The set tracking uri is  \n"
     ]
    }
   ],
   "source": [
    "# set tracking folder\n",
    "mlflow.set_tracking_uri(uri=\"\")\n",
    "\n",
    "# 全路徑寫法 file:xxxx\n",
    "# mlflow.set_tracking_uri(uri=r\"file:C:\\Users\\xdxd2\\Sunny_VS_worksapce\\Sunny_python\\ML\\mytracks\")\n",
    "\n",
    "print(\"The set tracking uri is \", mlflow.get_tracking_uri())\n",
    "\n",
    "\n"
   ]
  },
  {
   "cell_type": "markdown",
   "metadata": {},
   "source": [
    "### experiment id\n"
   ]
  },
  {
   "cell_type": "code",
   "execution_count": 10,
   "metadata": {},
   "outputs": [
    {
     "name": "stderr",
     "output_type": "stream",
     "text": [
      "2024/01/29 15:37:44 INFO mlflow.tracking.fluent: Experiment with name 'lr_elasticNet_multi_runs' does not exist. Creating a new experiment.\n"
     ]
    },
    {
     "name": "stdout",
     "output_type": "stream",
     "text": [
      "Name: lr_elasticNet_multi_runs\n",
      "Experiment_id: 933342699823291973\n"
     ]
    }
   ],
   "source": [
    "\n",
    "exp = mlflow.set_experiment( experiment_name= \"lr_elasticNet_multi_runs\")\n",
    "\n",
    "\n",
    "print(f\"Name: {exp.name}\")\n",
    "print(f\"Experiment_id: {exp.experiment_id}\")\n",
    "# print(f\"Artifact Location: {exp.artifact_location}\")\n",
    "# print(f\"Tags: {exp.tags}\")\n",
    "# print(f\"Lifecycle_stage: {exp.lifecycle_stage}\")\n",
    "# print(f\"Creation timestamp: {exp.creation_time}\")\n",
    "\n"
   ]
  },
  {
   "cell_type": "markdown",
   "metadata": {},
   "source": [
    "## multiple runs\n",
    "\n",
    "application field\n",
    "\n",
    "1. hyperparameter tuning\n",
    "2. incremental training\n",
    "3. model checkpoint\n",
    "4. feature engineering\n",
    "5. cross validation\n"
   ]
  },
  {
   "cell_type": "code",
   "execution_count": 15,
   "metadata": {},
   "outputs": [
    {
     "name": "stdout",
     "output_type": "stream",
     "text": [
      "active run id is 85dfc2a7d043420a8b89cbe64f723874\n",
      "active run name is run_1\n",
      "Elasticnet model (alpha=0.300000, l1_ratio=0.300000):\n",
      "  RMSE: 0.7442929001520973\n",
      "  MAE: 0.5763000946156918\n",
      "  R2: 0.21508707276848893\n",
      "artifact uri: file:///C:/Users/xdxd2/Sunny_VS_worksapce/Sunny_python/ML/MLOps_fundamentals/MLflow/basic/mlruns/933342699823291973/85dfc2a7d043420a8b89cbe64f723874/artifacts\n",
      "active run id is 8b79ec1e00764211b5ee1478187c0820\n",
      "active run name is run_2\n",
      "Elasticnet model (alpha=0.600000, l1_ratio=0.600000):\n",
      "  RMSE: 0.8307275887203359\n",
      "  MAE: 0.6623342053053785\n",
      "  R2: 0.02219782981672136\n",
      "artifact uri: file:///C:/Users/xdxd2/Sunny_VS_worksapce/Sunny_python/ML/MLOps_fundamentals/MLflow/basic/mlruns/933342699823291973/8b79ec1e00764211b5ee1478187c0820/artifacts\n",
      "active run id is 182f2b161cbe451b9262df9a3b69711c\n",
      "active run name is run_3\n",
      "Elasticnet model (alpha=0.900000, l1_ratio=0.900000):\n",
      "  RMSE: 0.8312296853893981\n",
      "  MAE: 0.6673520215793272\n",
      "  R2: 0.02101549378688994\n",
      "artifact uri: file:///C:/Users/xdxd2/Sunny_VS_worksapce/Sunny_python/ML/MLOps_fundamentals/MLflow/basic/mlruns/933342699823291973/182f2b161cbe451b9262df9a3b69711c/artifacts\n",
      "active run id is 182f2b161cbe451b9262df9a3b69711c\n",
      "active run name is run_3\n"
     ]
    }
   ],
   "source": [
    "\n",
    "for i in range(1, 4):\n",
    "\n",
    "    mlflow.start_run(run_name=f\"run_{i}\")\n",
    "\n",
    "    # hyper parameter tuning\n",
    "    alpha = 0.3 * i\n",
    "    l1_ratio = 0.3 * i\n",
    "\n",
    "\n",
    "    # add exp tags\n",
    "    mlflow.set_tag(\"release.version\", \"0.1\")\n",
    "\n",
    "    tags = {\n",
    "        \"engineering\": \"ML platform\",\n",
    "        \"release.candidate\": \"RC1\",\n",
    "        \"release.version\":\"2.0\"\n",
    "    }\n",
    "    mlflow.set_tags(tags)\n",
    "\n",
    "    current_run = mlflow.active_run()\n",
    "    print(f\"active run id is {current_run.info.run_id}\")\n",
    "    print(f\"active run name is {current_run.info.run_name}\")\n",
    "\n",
    "\n",
    "    lr = ElasticNet(alpha=alpha, l1_ratio=l1_ratio, random_state=62)\n",
    "    lr.fit(train_x, train_y)\n",
    "\n",
    "    predicted_qualities = lr.predict(test_x)\n",
    "\n",
    "    (rmse, mae, r2) = eval_metrics(test_y, predicted_qualities)\n",
    "\n",
    "    print(\"Elasticnet model (alpha={:f}, l1_ratio={:f}):\".format(alpha, l1_ratio))\n",
    "    print(\"  RMSE: %s\" % rmse)\n",
    "    print(\"  MAE: %s\" % mae)\n",
    "    print(\"  R2: %s\" % r2)\n",
    "\n",
    "\n",
    "    #log parameters\n",
    "    params = {\n",
    "        \"alpha\" : alpha,\n",
    "        \"l1_ratio\": l1_ratio\n",
    "    }\n",
    "    mlflow.log_params(params)\n",
    "\n",
    "    #log metrics\n",
    "    metrics = {\n",
    "        \"rmse\":rmse,\n",
    "        \"r2\":r2,\n",
    "        \"mae\":mae\n",
    "    }\n",
    "    mlflow.log_metrics(metrics)\n",
    "\n",
    "    #log model\n",
    "    mlflow.sklearn.log_model(lr, \"mymodel_f86a8_end_run\")\n",
    "    mlflow.log_artifacts(\"data/\")\n",
    "\n",
    "\n",
    "    artifact_uri = mlflow.get_artifact_uri()\n",
    "    print(f\"artifact uri: {artifact_uri}\")\n",
    "\n",
    "    mlflow.end_run()\n",
    "\n",
    "run = mlflow.last_active_run()\n",
    "print(f\"active run id is {run.info.run_id}\")\n",
    "print(f\"active run name is {run.info.run_name}\")\n",
    "\n",
    "\n"
   ]
  }
 ],
 "metadata": {
  "kernelspec": {
   "display_name": "Python 3",
   "language": "python",
   "name": "python3"
  },
  "language_info": {
   "codemirror_mode": {
    "name": "ipython",
    "version": 3
   },
   "file_extension": ".py",
   "mimetype": "text/x-python",
   "name": "python",
   "nbconvert_exporter": "python",
   "pygments_lexer": "ipython3",
   "version": "3.10.7"
  }
 },
 "nbformat": 4,
 "nbformat_minor": 2
}
